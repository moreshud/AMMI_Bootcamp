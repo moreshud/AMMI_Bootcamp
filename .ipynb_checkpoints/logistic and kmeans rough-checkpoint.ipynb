{
 "cells": [
  {
   "cell_type": "code",
   "execution_count": 1,
   "metadata": {
    "ExecuteTime": {
     "end_time": "2019-10-29T10:50:47.634819Z",
     "start_time": "2019-10-29T10:50:47.606367Z"
    }
   },
   "outputs": [],
   "source": [
    "import random as rd\n",
    "import numpy as np\n",
    "import seaborn as sn\n",
    "import pandas as pd"
   ]
  },
  {
   "cell_type": "code",
   "execution_count": 2,
   "metadata": {
    "ExecuteTime": {
     "end_time": "2019-10-29T10:50:23.972302Z",
     "start_time": "2019-10-29T10:50:23.041699Z"
    }
   },
   "outputs": [],
   "source": [
    "mu1 = -1\n",
    "mu2 = 3\n",
    "sig1 = 0.5\n",
    "sig2 = 1\n",
    "N = 100"
   ]
  },
  {
   "cell_type": "code",
   "execution_count": 3,
   "metadata": {},
   "outputs": [],
   "source": [
    "np.random.seed(10)\n",
    "x11=np.random.randn(N,1)*sig1 + mu1\n",
    "x12=np.random.randn(N,1)*sig1 + mu1+3\n",
    "x21=np.random.randn(N,1)*sig2 + mu2\n",
    "x22=np.random.randn(N,1)*sig2 + mu2+3"
   ]
  },
  {
   "cell_type": "code",
   "execution_count": 4,
   "metadata": {},
   "outputs": [],
   "source": [
    "c = np.vstack((-np.ones((N,1)), np.ones((N,1))))\n",
    "x1 = np.hstack((x11,x12))\n",
    "x2 = np.hstack((x21,x22))"
   ]
  },
  {
   "cell_type": "code",
   "execution_count": 5,
   "metadata": {},
   "outputs": [],
   "source": [
    "X = np.hstack( (np.vstack( (x1,x2) ),c) )\n",
    "np.random.shuffle(X)\n",
    "dataset = pd.DataFrame(data=X, columns=['x','y','c'])\n",
    "dataset = dataset.drop(\"c\",axis = 1)\n",
    "#Visualize first your dataset and then write the Kmeans algorithm"
   ]
  },
  {
   "cell_type": "code",
   "execution_count": 6,
   "metadata": {},
   "outputs": [],
   "source": [
    "# Initialize the centroids\n",
    "c1 = (-1, 4)\n",
    "c2 = (-0.2, 1.5)\n",
    "c3 = (2, 2.5)"
   ]
  },
  {
   "cell_type": "code",
   "execution_count": 7,
   "metadata": {},
   "outputs": [],
   "source": [
    "# A helper function to calculate the Euclidean diatance between the data \n",
    "# points and the centroids\n",
    "\n",
    "def calculate_distance(centroid, X, Y):\n",
    "    distances = []\n",
    "        \n",
    "    # Unpack the x and y coordinates of the centroid\n",
    "    c_x, c_y = centroid\n",
    "        \n",
    "    # Iterate over the data points and calculate the distance using the           # given formula\n",
    "    for x, y in list(zip(X, Y)):\n",
    "        root_diff_x = (x - c_x) ** 2\n",
    "        root_diff_y = (y - c_y) ** 2\n",
    "        distance = np.sqrt(root_diff_x + root_diff_y)\n",
    "        distances.append(distance)\n",
    "        \n",
    "    return distances"
   ]
  },
  {
   "cell_type": "code",
   "execution_count": 8,
   "metadata": {},
   "outputs": [
    {
     "name": "stdout",
     "output_type": "stream",
     "text": [
      "          x         y  C1_Distance  C2_Distance  C3_Distance\n",
      "0 -0.334207  2.058738     2.052262     0.574630     2.375549\n",
      "1  3.264395  5.636814     4.567737     5.395856     3.382055\n",
      "2 -0.669884  1.856185     2.169082     0.589626     2.746412\n",
      "3  1.995284  4.484924     3.034283     3.705272     1.984930\n",
      "4  3.588041  4.739172     4.647203     4.984124     2.745135\n"
     ]
    }
   ],
   "source": [
    "# Calculate the distance and assign them to the DataFrame accordingly\n",
    "dataset['C1_Distance'] = calculate_distance(c1, dataset.x, dataset.y)\n",
    "dataset['C2_Distance'] = calculate_distance(c2, dataset.x, dataset.y)\n",
    "dataset['C3_Distance'] = calculate_distance(c3, dataset.x, dataset.y)\n",
    "\n",
    "# Preview the data\n",
    "print(dataset.head())"
   ]
  },
  {
   "cell_type": "code",
   "execution_count": 9,
   "metadata": {},
   "outputs": [
    {
     "name": "stdout",
     "output_type": "stream",
     "text": [
      "          x         y  C1_Distance  C2_Distance  C3_Distance Cluster\n",
      "0 -0.334207  2.058738     2.052262     0.574630     2.375549      C2\n",
      "1  3.264395  5.636814     4.567737     5.395856     3.382055      C3\n",
      "2 -0.669884  1.856185     2.169082     0.589626     2.746412      C2\n",
      "3  1.995284  4.484924     3.034283     3.705272     1.984930      C3\n",
      "4  3.588041  4.739172     4.647203     4.984124     2.745135      C3\n",
      "5 -1.988864  1.713443     2.491223     1.801553     4.065674      C2\n",
      "6  2.835925  6.653662     4.664359     5.981394     4.236942      C3\n",
      "7 -1.250864  1.971740     2.043716     1.151892     3.293506      C2\n",
      "8  2.152984  6.004102     3.736005     5.081680     3.507440      C3\n",
      "9  2.962082  5.537159     4.249818     5.128101     3.185897      C3\n"
     ]
    },
    {
     "name": "stderr",
     "output_type": "stream",
     "text": [
      "/usr/lib/python3/dist-packages/numpy/core/fromnumeric.py:56: FutureWarning: 'argmin' is deprecated, use 'idxmin' instead. The behavior of 'argmin'\n",
      "will be corrected to return the positional minimum in the future.\n",
      "Use 'series.values.argmin' to get the position of the minimum now.\n",
      "  return getattr(obj, method)(*args, **kwds)\n"
     ]
    }
   ],
   "source": [
    "# Get the minimum distance centroids\n",
    "dataset['Cluster'] = dataset[['C1_Distance', 'C2_Distance', 'C3_Distance']].apply(np.argmin, axis =1)\n",
    "    \n",
    "# Map the centroids accordingly and rename them\n",
    "dataset['Cluster'] = dataset['Cluster'].map({'C1_Distance': 'C1', 'C2_Distance': 'C2', 'C3_Distance': 'C3'})\n",
    "    \n",
    "# Get a preview of the data\n",
    "print(dataset.head(10))"
   ]
  },
  {
   "cell_type": "code",
   "execution_count": 10,
   "metadata": {},
   "outputs": [
    {
     "name": "stdout",
     "output_type": "stream",
     "text": [
      "Centroid 1 (0.5784548590607055, 5.235603926295507)\n",
      "Centroid 2 (5.924674310044597, 5.924674310044597)\n"
     ]
    }
   ],
   "source": [
    "# Calculate the coordinates of the new centroid from cluster 1\n",
    "x_new_centroid1 = dataset[dataset['Cluster']=='C1']['x'].mean()\n",
    "y_new_centroid1 = dataset[dataset['Cluster']=='C1']['y'].mean()\n",
    "\n",
    "# Calculate the coordinates of the new centroid from cluster 2\n",
    "x_new_centroid2 = dataset[dataset['Cluster']=='C3']['y'].mean()\n",
    "y_new_centroid2 = dataset[dataset['Cluster']=='C3']['y'].mean()\n",
    "\n",
    "# Print the coordinates of the new centroids\n",
    "print('Centroid 1 ({}, {})'.format(x_new_centroid1, y_new_centroid1))\n",
    "print('Centroid 2 ({}, {})'.format(x_new_centroid2, y_new_centroid2))"
   ]
  },
  {
   "cell_type": "code",
   "execution_count": null,
   "metadata": {},
   "outputs": [],
   "source": []
  },
  {
   "cell_type": "code",
   "execution_count": 11,
   "metadata": {},
   "outputs": [],
   "source": [
    "#Using the follow-up idea for k number of clusters"
   ]
  },
  {
   "cell_type": "code",
   "execution_count": 12,
   "metadata": {},
   "outputs": [],
   "source": [
    "def get_centroid(length, total):\n",
    "    if length == 1:\n",
    "        yield (total,)\n",
    "        return\n",
    "\n",
    "    for i in range(total):\n",
    "        for t in get_tuples(length - 1, total - i):\n",
    "            yield (i,) + t"
   ]
  },
  {
   "cell_type": "code",
   "execution_count": 13,
   "metadata": {},
   "outputs": [],
   "source": [
    "def k_means(n, k, data = 1):\n",
    "    \n",
    "    for i in range(k):\n",
    "        i = list(get_centroid(n, k))\n",
    "    return i"
   ]
  },
  {
   "cell_type": "code",
   "execution_count": null,
   "metadata": {},
   "outputs": [],
   "source": []
  },
  {
   "cell_type": "code",
   "execution_count": 14,
   "metadata": {},
   "outputs": [
    {
     "name": "stdout",
     "output_type": "stream",
     "text": [
      "C1\n"
     ]
    }
   ],
   "source": [
    "print(\"C{}\".format(1))"
   ]
  },
  {
   "cell_type": "code",
   "execution_count": 15,
   "metadata": {},
   "outputs": [],
   "source": [
    "centroids = {\n",
    "    i+1: [np.random.randint(0, 10), np.random.randint(0, 80)]\n",
    "    for i in range(3)\n",
    "}"
   ]
  },
  {
   "cell_type": "code",
   "execution_count": 16,
   "metadata": {},
   "outputs": [
    {
     "data": {
      "text/plain": [
       "array([[-3.34206748e-01,  2.05873783e+00, -1.00000000e+00],\n",
       "       [ 3.26439469e+00,  5.63681380e+00,  1.00000000e+00],\n",
       "       [-6.69884224e-01,  1.85618529e+00, -1.00000000e+00],\n",
       "       [ 1.99528365e+00,  4.48492432e+00,  1.00000000e+00],\n",
       "       [ 3.58804059e+00,  4.73917219e+00,  1.00000000e+00],\n",
       "       [-1.98886414e+00,  1.71344332e+00, -1.00000000e+00],\n",
       "       [ 2.83592471e+00,  6.65366231e+00,  1.00000000e+00],\n",
       "       [-1.25086445e+00,  1.97173964e+00, -1.00000000e+00],\n",
       "       [ 2.15298375e+00,  6.00410204e+00,  1.00000000e+00],\n",
       "       [ 2.96208212e+00,  5.53715911e+00,  1.00000000e+00],\n",
       "       [ 3.08413956e+00,  5.78073974e+00,  1.00000000e+00],\n",
       "       [-1.52256627e+00,  2.50343057e+00, -1.00000000e+00],\n",
       "       [ 3.35693907e+00,  6.80426736e+00,  1.00000000e+00],\n",
       "       [ 5.31912732e+00,  6.75947133e+00,  1.00000000e+00],\n",
       "       [ 4.67407555e+00,  7.18831675e+00,  1.00000000e+00],\n",
       "       [ 1.30159851e+00,  6.14024687e+00,  1.00000000e+00],\n",
       "       [ 1.05870032e+00,  6.34947641e+00,  1.00000000e+00],\n",
       "       [-1.24466861e+00,  1.75960633e+00, -1.00000000e+00],\n",
       "       [ 3.24917866e+00,  5.27060078e+00,  1.00000000e+00],\n",
       "       [ 3.09576324e+00,  7.21478265e+00,  1.00000000e+00],\n",
       "       [-6.42360513e-01,  1.04627156e+00, -1.00000000e+00],\n",
       "       [-1.18124959e+00,  2.13708639e+00, -1.00000000e+00],\n",
       "       [ 2.32797656e+00,  6.95771124e+00,  1.00000000e+00],\n",
       "       [ 3.22781736e+00,  6.75662186e+00,  1.00000000e+00],\n",
       "       [ 3.88577486e+00,  5.37638099e+00,  1.00000000e+00],\n",
       "       [-8.66964918e-01,  2.61810266e+00, -1.00000000e+00],\n",
       "       [-1.02441526e+00,  2.12230726e+00, -1.00000000e+00],\n",
       "       [-1.63688893e-01,  2.17311656e+00, -1.00000000e+00],\n",
       "       [-8.55452898e-01,  2.20714882e+00, -1.00000000e+00],\n",
       "       [-8.77728012e-01,  1.89636026e+00, -1.00000000e+00],\n",
       "       [ 1.73018041e+00,  5.38569515e+00,  1.00000000e+00],\n",
       "       [-3.01001811e-01,  2.08340513e+00, -1.00000000e+00],\n",
       "       [ 4.34217928e+00,  4.89647787e+00,  1.00000000e+00],\n",
       "       [-3.98481313e-01,  1.76459637e+00, -1.00000000e+00],\n",
       "       [ 4.21718156e+00,  5.01627188e+00,  1.00000000e+00],\n",
       "       [ 2.85493546e+00,  4.64230244e+00,  1.00000000e+00],\n",
       "       [-9.32431561e-01,  2.07055208e+00, -1.00000000e+00],\n",
       "       [-1.01295267e+00,  2.25535721e+00, -1.00000000e+00],\n",
       "       [-4.85862961e-01,  1.63032163e+00, -1.00000000e+00],\n",
       "       [ 2.27737927e+00,  4.73841026e+00,  1.00000000e+00],\n",
       "       [-7.45770429e-03,  1.28955974e+00, -1.00000000e+00],\n",
       "       [ 3.32338993e+00,  6.83708178e+00,  1.00000000e+00],\n",
       "       [ 2.31378439e+00,  7.26969128e+00,  1.00000000e+00],\n",
       "       [ 3.44902173e+00,  7.00828297e+00,  1.00000000e+00],\n",
       "       [-8.40321789e-01,  1.14446440e+00, -1.00000000e+00],\n",
       "       [ 2.33825528e-01,  1.86957026e+00, -1.00000000e+00],\n",
       "       [-9.50425392e-01,  2.51125805e+00, -1.00000000e+00],\n",
       "       [ 3.59145309e+00,  5.46128147e+00,  1.00000000e+00],\n",
       "       [-1.56830111e+00,  1.78048688e+00, -1.00000000e+00],\n",
       "       [-5.86500689e-01,  2.58358418e+00, -1.00000000e+00],\n",
       "       [-8.03329391e-01,  1.91135059e+00, -1.00000000e+00],\n",
       "       [ 2.96361746e+00,  6.53422496e+00,  1.00000000e+00],\n",
       "       [-1.26993954e+00,  2.67227471e+00, -1.00000000e+00],\n",
       "       [-7.83486905e-01,  2.14647036e+00, -1.00000000e+00],\n",
       "       [ 3.21045073e+00,  6.47723430e+00,  1.00000000e+00],\n",
       "       [ 1.92483665e-01,  3.23266254e+00, -1.00000000e+00],\n",
       "       [ 3.31511117e+00,  6.20983914e+00,  1.00000000e+00],\n",
       "       [-1.40229557e+00,  2.18887654e+00, -1.00000000e+00],\n",
       "       [-4.35607423e-01,  2.23044423e+00, -1.00000000e+00],\n",
       "       [-1.92809274e+00,  2.26694240e+00, -1.00000000e+00],\n",
       "       [-1.03095601e+00,  1.46015131e+00, -1.00000000e+00],\n",
       "       [ 3.19293598e+00,  6.88436760e+00,  1.00000000e+00],\n",
       "       [ 2.13724170e+00,  7.17373241e+00,  1.00000000e+00],\n",
       "       [ 3.43618530e+00,  7.07973068e+00,  1.00000000e+00],\n",
       "       [ 2.14247748e+00,  6.22612635e+00,  1.00000000e+00],\n",
       "       [ 3.85482876e+00,  6.37212255e+00,  1.00000000e+00],\n",
       "       [-8.42623111e-01,  1.64360028e+00, -1.00000000e+00],\n",
       "       [-1.70927801e+00,  1.60430461e+00, -1.00000000e+00],\n",
       "       [-1.04056109e+00,  8.52448336e-01, -1.00000000e+00],\n",
       "       [ 1.86952471e+00,  5.52859992e+00,  1.00000000e+00],\n",
       "       [ 2.16449150e+00,  6.61894892e+00,  1.00000000e+00],\n",
       "       [-8.43915032e-01,  1.80563603e+00, -1.00000000e+00],\n",
       "       [ 3.98659782e+00,  7.61145729e+00,  1.00000000e+00],\n",
       "       [ 2.42508234e+00,  5.10881308e+00,  1.00000000e+00],\n",
       "       [ 1.97524703e+00,  5.76004370e+00,  1.00000000e+00],\n",
       "       [ 3.54794393e+00,  7.39733798e+00,  1.00000000e+00],\n",
       "       [ 1.41344824e+00,  4.34139529e+00,  1.00000000e+00],\n",
       "       [-1.99719688e+00,  2.39088760e+00, -1.00000000e+00],\n",
       "       [-1.16957012e+00,  1.43844798e+00, -1.00000000e+00],\n",
       "       [ 2.17763240e+00,  6.48500263e+00,  1.00000000e+00],\n",
       "       [-1.10634882e+00,  2.80720399e+00, -1.00000000e+00],\n",
       "       [-1.77270015e+00,  1.53854537e+00, -1.00000000e+00],\n",
       "       [-1.18109022e+00,  5.10201614e-01, -1.00000000e+00],\n",
       "       [-8.91367427e-01,  1.79713524e+00, -1.00000000e+00],\n",
       "       [-6.45919990e-01,  2.24675766e+00, -1.00000000e+00],\n",
       "       [ 3.68790473e+00,  5.11653901e+00,  1.00000000e+00],\n",
       "       [ 2.25817516e+00,  7.86295167e+00,  1.00000000e+00],\n",
       "       [ 3.43836524e+00,  6.02580759e+00,  1.00000000e+00],\n",
       "       [-8.67244207e-01,  1.85200807e+00, -1.00000000e+00],\n",
       "       [ 2.74246638e+00,  5.42388314e+00,  1.00000000e+00],\n",
       "       [ 3.14896070e+00,  4.79634651e+00,  1.00000000e+00],\n",
       "       [ 3.98007413e+00,  6.37530555e+00,  1.00000000e+00],\n",
       "       [-1.37694648e+00,  1.93846509e+00, -1.00000000e+00],\n",
       "       [ 2.02980218e+00,  5.03029433e+00,  1.00000000e+00],\n",
       "       [ 2.43649433e+00,  7.10113620e+00,  1.00000000e+00],\n",
       "       [ 3.82951248e+00,  5.82870720e+00,  1.00000000e+00],\n",
       "       [-1.36004278e+00,  1.79993082e+00, -1.00000000e+00],\n",
       "       [ 3.54054071e+00,  6.60928227e+00,  1.00000000e+00],\n",
       "       [-6.93397908e-01,  2.33394480e+00, -1.00000000e+00],\n",
       "       [ 2.62723858e+00,  5.44395266e+00,  1.00000000e+00],\n",
       "       [-7.69548549e-01,  2.30614866e+00, -1.00000000e+00],\n",
       "       [ 4.10557514e+00,  4.01636350e+00,  1.00000000e+00],\n",
       "       [ 2.41554484e+00,  6.19727222e+00,  1.00000000e+00],\n",
       "       [ 3.62025450e+00,  6.79468527e+00,  1.00000000e+00],\n",
       "       [ 4.41206430e+00,  6.61645092e+00,  1.00000000e+00],\n",
       "       [-3.45763460e-01,  1.38708201e+00, -1.00000000e+00],\n",
       "       [-1.13562399e+00,  2.82835831e+00, -1.00000000e+00],\n",
       "       [-1.08730011e+00,  1.60636554e+00, -1.00000000e+00],\n",
       "       [ 2.71399799e+00,  6.07328301e+00,  1.00000000e+00],\n",
       "       [-1.27592926e-01,  1.66052661e+00, -1.00000000e+00],\n",
       "       [-2.06585605e+00,  2.05859071e+00, -1.00000000e+00],\n",
       "       [ 2.63572191e+00,  5.88411927e+00,  1.00000000e+00],\n",
       "       [-1.75416074e+00,  2.27421403e+00, -1.00000000e+00],\n",
       "       [ 3.02822737e+00,  6.23933927e+00,  1.00000000e+00],\n",
       "       [-8.85684935e-01,  1.84358562e+00, -1.00000000e+00],\n",
       "       [ 2.86742641e+00,  4.36441338e+00,  1.00000000e+00],\n",
       "       [-1.46971668e+00,  1.97597934e+00, -1.00000000e+00],\n",
       "       [ 4.01398463e+00,  6.02609653e+00,  1.00000000e+00],\n",
       "       [-1.27465451e+00,  1.43522440e+00, -1.00000000e+00],\n",
       "       [ 3.40246909e+00,  7.81778261e+00,  1.00000000e+00],\n",
       "       [ 1.97351832e-01,  1.64646428e+00, -1.00000000e+00],\n",
       "       [-1.03292392e+00,  3.11252482e+00, -1.00000000e+00],\n",
       "       [-1.26464804e+00,  1.40203534e+00, -1.00000000e+00],\n",
       "       [-1.87168615e+00,  1.33977623e+00, -1.00000000e+00],\n",
       "       [ 3.16039916e+00,  5.30494335e+00,  1.00000000e+00],\n",
       "       [-5.78887631e-01,  1.88149791e+00, -1.00000000e+00],\n",
       "       [-6.89699668e-01,  2.30159953e+00, -1.00000000e+00],\n",
       "       [ 3.10581208e+00,  6.81522068e+00,  1.00000000e+00],\n",
       "       [-9.97854285e-01,  2.35341523e+00, -1.00000000e+00],\n",
       "       [ 3.00402491e+00,  4.61317747e+00,  1.00000000e+00],\n",
       "       [ 3.13313750e+00,  6.75529996e+00,  1.00000000e+00],\n",
       "       [-9.55206194e-01,  1.48884465e+00, -1.00000000e+00],\n",
       "       [-1.11609113e+00,  2.60907443e+00, -1.00000000e+00],\n",
       "       [ 3.50318918e+00,  5.05929023e+00,  1.00000000e+00],\n",
       "       [ 3.06880147e+00,  4.30803207e+00,  1.00000000e+00],\n",
       "       [ 2.21765681e+00,  8.20096644e+00,  1.00000000e+00],\n",
       "       [-7.17423665e-01,  2.16617497e+00, -1.00000000e+00],\n",
       "       [ 4.08522707e+00,  6.50427148e+00,  1.00000000e+00],\n",
       "       [-1.07371013e+00,  2.56748659e+00, -1.00000000e+00],\n",
       "       [ 2.59852718e+00,  8.67991031e+00,  1.00000000e+00],\n",
       "       [ 3.18833121e+00,  6.28781043e+00,  1.00000000e+00],\n",
       "       [-1.48253284e+00,  3.20216280e+00, -1.00000000e+00],\n",
       "       [ 2.70975419e+00,  6.24479809e+00,  1.00000000e+00],\n",
       "       [ 3.89256403e+00,  5.83359931e+00,  1.00000000e+00],\n",
       "       [-9.33645852e-01,  1.68001870e+00, -1.00000000e+00],\n",
       "       [-7.99895006e-01,  2.66996315e+00, -1.00000000e+00],\n",
       "       [-5.05463771e-01,  2.28217626e+00, -1.00000000e+00],\n",
       "       [ 4.16372370e+00,  5.75425461e+00,  1.00000000e+00],\n",
       "       [ 1.99343144e+00,  6.39672599e+00,  1.00000000e+00],\n",
       "       [-8.98209601e-01,  2.02864258e+00, -1.00000000e+00],\n",
       "       [-1.23807101e+00,  2.15691526e+00, -1.00000000e+00],\n",
       "       [-1.00419192e+00,  2.23487572e+00, -1.00000000e+00],\n",
       "       [ 3.20732957e+00,  4.96939179e+00,  1.00000000e+00],\n",
       "       [-2.57731499e-01,  2.13652466e+00, -1.00000000e+00],\n",
       "       [-3.71763868e-01,  2.99269287e+00, -1.00000000e+00],\n",
       "       [ 1.39114964e+00,  6.66414561e+00,  1.00000000e+00],\n",
       "       [-1.05613624e+00,  2.47125020e+00, -1.00000000e+00],\n",
       "       [-4.46145883e-01,  2.17673881e+00, -1.00000000e+00],\n",
       "       [ 9.82281347e-01,  7.15668893e+00,  1.00000000e+00],\n",
       "       [ 1.85118774e+00,  3.82339137e+00,  1.00000000e+00],\n",
       "       [ 2.63982887e+00,  5.21731225e+00,  1.00000000e+00],\n",
       "       [-6.89332013e-01,  1.92781662e+00, -1.00000000e+00],\n",
       "       [ 3.73050745e+00,  7.48821839e+00,  1.00000000e+00],\n",
       "       [ 3.18264738e+00,  6.41253272e+00,  1.00000000e+00],\n",
       "       [-1.97725606e+00,  1.71401159e+00, -1.00000000e+00],\n",
       "       [-6.44020492e-01,  1.80450891e+00, -1.00000000e+00],\n",
       "       [-9.02493360e-01,  1.88910343e+00, -1.00000000e+00],\n",
       "       [-5.41270531e-01,  2.27333242e+00, -1.00000000e+00],\n",
       "       [ 1.46693128e+00,  7.15805157e+00,  1.00000000e+00],\n",
       "       [ 4.34480651e+00,  5.83359463e+00,  1.00000000e+00],\n",
       "       [-5.40865424e-01,  2.62758687e+00, -1.00000000e+00],\n",
       "       [ 1.93143229e+00,  5.50685926e+00,  1.00000000e+00],\n",
       "       [-1.39900441e+00,  1.85278700e+00, -1.00000000e+00],\n",
       "       [-1.34890502e+00,  2.33118701e+00, -1.00000000e+00],\n",
       "       [ 3.01102270e+00,  6.26957242e+00,  1.00000000e+00],\n",
       "       [ 6.04427987e-01,  5.91608476e+00,  1.00000000e+00],\n",
       "       [ 3.50392690e+00,  6.41160241e+00,  1.00000000e+00],\n",
       "       [-1.16881617e+00,  2.01465486e+00, -1.00000000e+00],\n",
       "       [ 1.55770112e+00,  5.67679877e+00,  1.00000000e+00],\n",
       "       [-4.76908572e-01,  1.83344942e+00, -1.00000000e+00],\n",
       "       [ 4.20274387e+00,  6.87948569e+00,  1.00000000e+00],\n",
       "       [ 3.27960539e+00,  6.04477469e+00,  1.00000000e+00],\n",
       "       [ 1.45269461e+00,  6.06431940e+00,  1.00000000e+00],\n",
       "       [-7.77431194e-01,  1.82555904e+00, -1.00000000e+00],\n",
       "       [ 4.90230404e+00,  6.18941984e+00,  1.00000000e+00],\n",
       "       [ 2.04646758e+00,  5.76491777e+00,  1.00000000e+00],\n",
       "       [ 4.19435060e+00,  5.94640550e+00,  1.00000000e+00],\n",
       "       [-1.53990244e+00,  1.19071463e+00, -1.00000000e+00],\n",
       "       [-1.17543595e+00,  1.32034471e+00, -1.00000000e+00],\n",
       "       [-1.11138685e+00,  2.37198720e+00, -1.00000000e+00],\n",
       "       [-9.45725737e-01,  2.42410430e+00, -1.00000000e+00],\n",
       "       [-4.38154373e-01,  2.69161611e+00, -1.00000000e+00],\n",
       "       [ 3.30866767e+00,  5.96607300e+00,  1.00000000e+00],\n",
       "       [-1.24104657e+00,  2.47356304e+00, -1.00000000e+00],\n",
       "       [ 3.16390425e+00,  5.73349813e+00,  1.00000000e+00],\n",
       "       [-1.06095285e+00,  1.74254504e+00, -1.00000000e+00],\n",
       "       [-1.36598475e+00,  2.72358280e+00, -1.00000000e+00],\n",
       "       [-1.13365859e+00,  1.88502668e+00, -1.00000000e+00],\n",
       "       [ 3.60202227e+00,  5.74471955e+00,  1.00000000e+00],\n",
       "       [-1.10789495e+00,  2.55006469e+00, -1.00000000e+00]])"
      ]
     },
     "execution_count": 16,
     "metadata": {},
     "output_type": "execute_result"
    }
   ],
   "source": [
    "X"
   ]
  },
  {
   "cell_type": "code",
   "execution_count": 17,
   "metadata": {},
   "outputs": [
    {
     "data": {
      "text/plain": [
       "(200, 3)"
      ]
     },
     "execution_count": 17,
     "metadata": {},
     "output_type": "execute_result"
    }
   ],
   "source": [
    "X.shape"
   ]
  },
  {
   "cell_type": "code",
   "execution_count": 18,
   "metadata": {},
   "outputs": [
    {
     "data": {
      "text/plain": [
       "array([[ 1.        , -0.33420675,  2.05873783, -1.        ],\n",
       "       [ 1.        ,  3.26439469,  5.6368138 ,  1.        ],\n",
       "       [ 1.        , -0.66988422,  1.85618529, -1.        ],\n",
       "       [ 1.        ,  1.99528365,  4.48492432,  1.        ],\n",
       "       [ 1.        ,  3.58804059,  4.73917219,  1.        ]])"
      ]
     },
     "execution_count": 18,
     "metadata": {},
     "output_type": "execute_result"
    }
   ],
   "source": [
    "intercept = np.ones((X.shape[0], 1))\n",
    "np.concatenate((intercept, X), axis=1)[:5]"
   ]
  },
  {
   "cell_type": "code",
   "execution_count": 19,
   "metadata": {},
   "outputs": [
    {
     "data": {
      "text/plain": [
       "array([0., 0., 0.])"
      ]
     },
     "execution_count": 19,
     "metadata": {},
     "output_type": "execute_result"
    }
   ],
   "source": [
    "np.zeros(X.shape[1])"
   ]
  },
  {
   "cell_type": "code",
   "execution_count": 20,
   "metadata": {},
   "outputs": [],
   "source": [
    "a = np.arange(3*4)\n",
    "b = np.random.rand(12)"
   ]
  },
  {
   "cell_type": "code",
   "execution_count": 21,
   "metadata": {},
   "outputs": [
    {
     "data": {
      "text/plain": [
       "(array([ 0,  1,  2,  3,  4,  5,  6,  7,  8,  9, 10, 11]),\n",
       " array([0.91810944, 0.07349709, 0.99545324, 0.10544127, 0.01142237,\n",
       "        0.31002212, 0.92550757, 0.33030334, 0.63712082, 0.12371873,\n",
       "        0.85339266, 0.29894678]))"
      ]
     },
     "execution_count": 21,
     "metadata": {},
     "output_type": "execute_result"
    }
   ],
   "source": [
    "a, b"
   ]
  },
  {
   "cell_type": "code",
   "execution_count": 22,
   "metadata": {},
   "outputs": [
    {
     "data": {
      "text/plain": [
       "(12,)"
      ]
     },
     "execution_count": 22,
     "metadata": {},
     "output_type": "execute_result"
    }
   ],
   "source": [
    "b.shape"
   ]
  },
  {
   "cell_type": "code",
   "execution_count": 23,
   "metadata": {},
   "outputs": [
    {
     "data": {
      "text/plain": [
       "29.874472571401267"
      ]
     },
     "execution_count": 23,
     "metadata": {},
     "output_type": "execute_result"
    }
   ],
   "source": [
    "np.dot(a,b)"
   ]
  },
  {
   "cell_type": "code",
   "execution_count": 24,
   "metadata": {},
   "outputs": [
    {
     "data": {
      "text/html": [
       "<div>\n",
       "<style scoped>\n",
       "    .dataframe tbody tr th:only-of-type {\n",
       "        vertical-align: middle;\n",
       "    }\n",
       "\n",
       "    .dataframe tbody tr th {\n",
       "        vertical-align: top;\n",
       "    }\n",
       "\n",
       "    .dataframe thead th {\n",
       "        text-align: right;\n",
       "    }\n",
       "</style>\n",
       "<table border=\"1\" class=\"dataframe\">\n",
       "  <thead>\n",
       "    <tr style=\"text-align: right;\">\n",
       "      <th></th>\n",
       "      <th>x</th>\n",
       "      <th>y</th>\n",
       "      <th>C1_Distance</th>\n",
       "      <th>C2_Distance</th>\n",
       "      <th>C3_Distance</th>\n",
       "      <th>Cluster</th>\n",
       "    </tr>\n",
       "  </thead>\n",
       "  <tbody>\n",
       "    <tr>\n",
       "      <th>0</th>\n",
       "      <td>-0.334207</td>\n",
       "      <td>2.058738</td>\n",
       "      <td>2.052262</td>\n",
       "      <td>0.574630</td>\n",
       "      <td>2.375549</td>\n",
       "      <td>C2</td>\n",
       "    </tr>\n",
       "    <tr>\n",
       "      <th>1</th>\n",
       "      <td>3.264395</td>\n",
       "      <td>5.636814</td>\n",
       "      <td>4.567737</td>\n",
       "      <td>5.395856</td>\n",
       "      <td>3.382055</td>\n",
       "      <td>C3</td>\n",
       "    </tr>\n",
       "    <tr>\n",
       "      <th>2</th>\n",
       "      <td>-0.669884</td>\n",
       "      <td>1.856185</td>\n",
       "      <td>2.169082</td>\n",
       "      <td>0.589626</td>\n",
       "      <td>2.746412</td>\n",
       "      <td>C2</td>\n",
       "    </tr>\n",
       "    <tr>\n",
       "      <th>3</th>\n",
       "      <td>1.995284</td>\n",
       "      <td>4.484924</td>\n",
       "      <td>3.034283</td>\n",
       "      <td>3.705272</td>\n",
       "      <td>1.984930</td>\n",
       "      <td>C3</td>\n",
       "    </tr>\n",
       "    <tr>\n",
       "      <th>4</th>\n",
       "      <td>3.588041</td>\n",
       "      <td>4.739172</td>\n",
       "      <td>4.647203</td>\n",
       "      <td>4.984124</td>\n",
       "      <td>2.745135</td>\n",
       "      <td>C3</td>\n",
       "    </tr>\n",
       "  </tbody>\n",
       "</table>\n",
       "</div>"
      ],
      "text/plain": [
       "          x         y  C1_Distance  C2_Distance  C3_Distance Cluster\n",
       "0 -0.334207  2.058738     2.052262     0.574630     2.375549      C2\n",
       "1  3.264395  5.636814     4.567737     5.395856     3.382055      C3\n",
       "2 -0.669884  1.856185     2.169082     0.589626     2.746412      C2\n",
       "3  1.995284  4.484924     3.034283     3.705272     1.984930      C3\n",
       "4  3.588041  4.739172     4.647203     4.984124     2.745135      C3"
      ]
     },
     "execution_count": 24,
     "metadata": {},
     "output_type": "execute_result"
    }
   ],
   "source": [
    "dataset.head()"
   ]
  },
  {
   "cell_type": "code",
   "execution_count": 25,
   "metadata": {},
   "outputs": [],
   "source": [
    "data = dataset.drop([\"C1_Distance\",\"C2_Distance\",\"C3_Distance\",\"Cluster\"], axis = 1)"
   ]
  },
  {
   "cell_type": "code",
   "execution_count": null,
   "metadata": {},
   "outputs": [],
   "source": []
  },
  {
   "cell_type": "code",
   "execution_count": null,
   "metadata": {},
   "outputs": [],
   "source": []
  },
  {
   "cell_type": "code",
   "execution_count": 26,
   "metadata": {},
   "outputs": [],
   "source": [
    "#Implementation of Logistic Regression with Ahmed"
   ]
  },
  {
   "cell_type": "code",
   "execution_count": 4,
   "metadata": {},
   "outputs": [],
   "source": [
    "import numpy as np\n",
    "import pandas as pd\n",
    "import matplotlib.pyplot as plt\n",
    "from sklearn import datasets\n",
    "from sklearn.model_selection import train_test_split\n",
    "\n",
    "%matplotlib inline"
   ]
  },
  {
   "cell_type": "code",
   "execution_count": 5,
   "metadata": {},
   "outputs": [],
   "source": [
    "iris = datasets.load_iris()"
   ]
  },
  {
   "cell_type": "code",
   "execution_count": 16,
   "metadata": {},
   "outputs": [],
   "source": [
    "X = iris.data[:,:]\n",
    "Y = (iris.target!=0) * 1"
   ]
  },
  {
   "cell_type": "code",
   "execution_count": 17,
   "metadata": {},
   "outputs": [],
   "source": [
    "order = np.random.permutation(len(X))\n",
    "test_split = int(len(X)*0.2)\n",
    "\n",
    "X_train = X[order[test_split:],:]\n",
    "X_test = X[order[:test_split],:]\n",
    "Y_train = Y[order[test_split:]]\n",
    "Y_test = Y[order[:test_split]]"
   ]
  },
  {
   "cell_type": "code",
   "execution_count": 18,
   "metadata": {},
   "outputs": [],
   "source": [
    "def fit_intercept(X):\n",
    "    bias = np.ones((X.shape[0],1))\n",
    "    return np.concatenate((bias, X), axis = 1)"
   ]
  },
  {
   "cell_type": "code",
   "execution_count": 19,
   "metadata": {},
   "outputs": [
    {
     "name": "stdout",
     "output_type": "stream",
     "text": [
      "(120, 4) (30, 4) (120,) (30,)\n"
     ]
    }
   ],
   "source": [
    "print(X_train.shape, X_test.shape, Y_train.shape, Y_test.shape)"
   ]
  },
  {
   "cell_type": "code",
   "execution_count": 20,
   "metadata": {},
   "outputs": [],
   "source": [
    "def sigmoid(x):\n",
    "    return 1/(1 + np.exp(-x))"
   ]
  },
  {
   "cell_type": "code",
   "execution_count": 21,
   "metadata": {},
   "outputs": [],
   "source": [
    "def gradient(X,y,h):\n",
    "    err = (y - h).reshape(-1,1)\n",
    "    return np.dot(X, err)"
   ]
  },
  {
   "cell_type": "code",
   "execution_count": 12,
   "metadata": {},
   "outputs": [],
   "source": [
    "#Intiatize\n",
    "X_train = fit_intercept(X_train)\n",
    "X_test = fit_intercept(X_test)\n",
    "\n",
    "theta = np.random.randn(X_train.shape[1]).reshape(-1,1)"
   ]
  },
  {
   "cell_type": "code",
   "execution_count": 13,
   "metadata": {},
   "outputs": [
    {
     "name": "stdout",
     "output_type": "stream",
     "text": [
      "1\n"
     ]
    }
   ],
   "source": [
    "l = 0.01\n",
    "ep = 0.0001\n",
    "done = False\n",
    "epoch = 0\n",
    "\n",
    "while not done:\n",
    "    epoch += 1\n",
    "    for i in range(X_train.shape[0]):\n",
    "        mul = np.dot(X_train[i], theta)\n",
    "        h = sigmoid(mul).reshape(-1,1)\n",
    "        g = gradient(X_train[i].reshape(-1,1), Y_train[i], h)\n",
    "        theta_n = theta - l*g\n",
    "\n",
    "        if np.sum(np.abs(theta_n-theta)) < ep:\n",
    "            print(epoch)\n",
    "            done = True\n",
    "            break\n",
    "\n",
    "        theta = theta_n"
   ]
  },
  {
   "cell_type": "code",
   "execution_count": 22,
   "metadata": {},
   "outputs": [],
   "source": [
    "class LogisticRegression:\n",
    "    \n",
    "    def __init__(self, learning_rate = 0.0001, n_iters = 1000):\n",
    "        self.lr = learning_rate\n",
    "        self.n_iters = n_iters\n",
    "        self.weights = None\n",
    "        self.bias = None\n",
    "    \n",
    "    def fit(self, X, y):\n",
    "        n_samples, n_features = X.shape\n",
    "        \n",
    "        self.weights = np.zeros(n_features)\n",
    "        self.bias = 0\n",
    "        \n",
    "        for _ in range(self.n_iters):\n",
    "            linear_model = np.dot(X, self.weights) + self.bias\n",
    "            yprediction = self.sigmoid(linear_model)\n",
    "            \n",
    "            #gradient descent\n",
    "            dw = 1/n_samples * np.dot(X.T, (yprediction - y))\n",
    "            db = 1/n_samples * np.sum(yprediction-y)\n",
    "            \n",
    "            #update\n",
    "            self.weights -= self.lr * dw\n",
    "            self.bias -= self.lr * db\n",
    "    \n",
    "    def predict(self, X):\n",
    "        linear_model = np.dot(X, self.weights) + self.bias\n",
    "        yprediction = self.sigmoid(linear_model)\n",
    "        self.ypred_cls = [1 if i >= 0.5 else 0 for i in yprediction]\n",
    "        return\n",
    "    \n",
    "    def accuracy(self, y_true):\n",
    "        return np.sum(y_true == self.ypred_cls) / len(y_true)\n",
    "\n",
    "            \n",
    "    def sigmoid(self, x):\n",
    "        return 1/(1 + np.exp(-x))"
   ]
  },
  {
   "cell_type": "code",
   "execution_count": 33,
   "metadata": {},
   "outputs": [
    {
     "data": {
      "text/plain": [
       "0.7333333333333333"
      ]
     },
     "execution_count": 33,
     "metadata": {},
     "output_type": "execute_result"
    }
   ],
   "source": [
    "def accuracy(y_true, y_pred):\n",
    "    accuracy = np.sum(y_true == y_pred) / len(y_true)\n",
    "    return accuracy\n",
    "\n",
    "bc = datasets.load_breast_cancer()\n",
    "X, y = bc.data, bc.target\n",
    "\n",
    "#X_train, X_test, y_train, y_test = train_test_split(X, y, test_size=0.2, random_state=1234)\n",
    "\n",
    "regressor = LogisticRegression(learning_rate=0.001, n_iters=100)\n",
    "regressor.fit(X_train, Y_train)\n",
    "regressor.predict(X_test)\n",
    "regressor.accuracy(Y_test)"
   ]
  },
  {
   "cell_type": "code",
   "execution_count": null,
   "metadata": {},
   "outputs": [],
   "source": []
  },
  {
   "cell_type": "code",
   "execution_count": null,
   "metadata": {},
   "outputs": [],
   "source": []
  }
 ],
 "metadata": {
  "kernelspec": {
   "display_name": "Python 3",
   "language": "python",
   "name": "python3"
  },
  "language_info": {
   "codemirror_mode": {
    "name": "ipython",
    "version": 3
   },
   "file_extension": ".py",
   "mimetype": "text/x-python",
   "name": "python",
   "nbconvert_exporter": "python",
   "pygments_lexer": "ipython3",
   "version": "3.7.3"
  },
  "toc": {
   "base_numbering": 1,
   "nav_menu": {},
   "number_sections": true,
   "sideBar": true,
   "skip_h1_title": false,
   "title_cell": "Table of Contents",
   "title_sidebar": "Contents",
   "toc_cell": false,
   "toc_position": {},
   "toc_section_display": true,
   "toc_window_display": false
  }
 },
 "nbformat": 4,
 "nbformat_minor": 2
}
